{
 "cells": [
  {
   "cell_type": "code",
   "execution_count": null,
   "id": "d5624d12-2dd8-48b4-9fde-d48b3b4c0506",
   "metadata": {},
   "outputs": [],
   "source": [
    "!pip install roboflow\n",
    "\n",
    "from roboflow import Roboflow\n",
    "rf = Roboflow(api_key=\"OTdJUs48UhjFrx9n1eG0\")\n",
    "project = rf.workspace(\"yololearn-nin5f\").project(\"wake-or-sleep-classfication\")\n",
    "dataset = project.version(1).download(\"folder\")"
   ]
  },
  {
   "cell_type": "code",
   "execution_count": null,
   "id": "432ca59b-14fe-4484-b97a-0afc8ef3bc69",
   "metadata": {},
   "outputs": [],
   "source": [
    "!pip install ultralytics\n",
    "\n",
    "from ultralytics import YOLO, checks\n",
    "\n",
    "checks()\n",
    "\n",
    "# 设置HTTP和HTTPS代理环境变量\n",
    "#os.environ[\"HTTP_PROXY\"] = 127.0.0.1:18888\n",
    "#os.environ[\"HTTPS_PROXY\"] = 127.0.0.1:18888\n",
    "\n",
    "# Load a model\n",
    "model = YOLO('yolov8m-cls.pt')  # load a pretrained model (recommended for training)\n",
    "\n",
    "# Train the model\n",
    "results = model.train(data='wake-or-sleep-classfication-1', epochs=100, imgsz=640)"
   ]
  },
  {
   "cell_type": "code",
   "execution_count": null,
   "id": "18d95a2c-dcc1-4215-b710-a5ea10888530",
   "metadata": {},
   "outputs": [],
   "source": []
  }
 ],
 "metadata": {
  "kernelspec": {
   "display_name": "Python 3 (ipykernel)",
   "language": "python",
   "name": "python3"
  },
  "language_info": {
   "codemirror_mode": {
    "name": "ipython",
    "version": 3
   },
   "file_extension": ".py",
   "mimetype": "text/x-python",
   "name": "python",
   "nbconvert_exporter": "python",
   "pygments_lexer": "ipython3",
   "version": "3.10.12"
  }
 },
 "nbformat": 4,
 "nbformat_minor": 5
}
